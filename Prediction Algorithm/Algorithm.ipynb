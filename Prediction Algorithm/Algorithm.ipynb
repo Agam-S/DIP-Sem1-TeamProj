{
  "cells": [
    {
      "cell_type": "code",
      "execution_count": 14,
      "metadata": {},
      "outputs": [],
      "source": [
        "import numpy as np\n",
        "import pandas as pd\n",
        "\n",
        "\n",
        "import matplotlib.pyplot as plt\n",
        "plt.style.use('fivethirtyeight')\n",
        "plt.rcParams['lines.linewidth'] = 1.5\n",
        "\n",
        "import warnings\n",
        "warnings.filterwarnings('ignore')\n",
        "\n",
        "from sklearn.ensemble import RandomForestRegressor\n",
        "\n",
        "from skforecast.ForecasterAutoreg import ForecasterAutoreg\n"
      ]
    },
    {
      "cell_type": "code",
      "execution_count": 20,
      "metadata": {},
      "outputs": [
        {
          "name": "stdout",
          "output_type": "stream",
          "text": [
            "['Delon Wright', 'Jalen Johnson', 'Sharife Cooper', 'Kevin Huerter', 'Skylar Mays', 'Kevin Knox', 'Lou Williams', 'Timothe Luwawu-Cabarrot', 'Danilo Gallinari', 'Gorgui Dieng', 'Trae Young', \"De'Andre Hunter\", 'Bogdan Bogdanovic', 'Clint Capela', 'Onyeka Okongwu', 'John Collins']\n",
            "      PER\n",
            "0   16.49\n",
            "1   15.54\n",
            "2   10.15\n",
            "3   20.29\n",
            "4   21.30\n",
            "5    7.08\n",
            "6    8.03\n",
            "7   13.96\n",
            "8   21.02\n",
            "9   14.69\n",
            "10  18.17\n",
            "11  17.03\n",
            "12  13.51\n",
            "13  14.12\n",
            "14  24.55\n",
            "15  23.84\n",
            "16  18.33\n",
            "17  21.85\n",
            "[10.1786 17.8407 17.8886 17.8886 17.8886 17.8886 17.8886 17.8886 17.8886\n",
            " 17.8886 17.8886 17.8886]\n",
            "1.2931581249999984\n",
            "51.72632499999993\n"
          ]
        }
      ],
      "source": [
        "\n",
        "def print_player_data():\n",
        "    nba_data = pd.read_csv(\"CSV_2017-18_PER.csv\", sep=\",\")\n",
        "    dataList = []\n",
        "   \n",
        "\n",
        "    player_names = input(\"Enter a list of player names: \")\n",
        "    player_names = player_names.split(\",\")\n",
        "    player_names = [name.lstrip() for name in player_names]\n",
        "    print(player_names)\n",
        "    \n",
        "    for player in player_names:\n",
        "        for index, row in nba_data.iterrows():\n",
        "            if row[\"PLAYER_NAME\"] == player:\n",
        "                dataList.append(row[\"PER\"])\n",
        "                \n",
        "    predictList = pd.Series(dataList)\n",
        "    df = pd.DataFrame({'PER':predictList.values})\n",
        "    print(df)\n",
        "\n",
        "    \n",
        "    forecaster = ForecasterAutoreg (\n",
        "            regressor = RandomForestRegressor(random_state=123),\n",
        "            lags = 1\n",
        "        )\n",
        "\n",
        "    forecaster.fit(y=df['PER'])\n",
        "    forecaster\n",
        "\n",
        "    \n",
        "    steps = 12\n",
        "    \n",
        "    predictions = forecaster.predict(steps=steps)\n",
        "    predictions[0:12]  \n",
        "    print(predictions)    \n",
        "    \n",
        "    finalList = predictions.tolist()\n",
        "\n",
        "    sumof = sum(finalList)\n",
        "\n",
        "    f = (sumof/len(player_names))\n",
        "    fa = f * 0.10\n",
        "    print(fa)\n",
        "    fii = (sumof / 2)\n",
        "\n",
        "    if fii > 80:\n",
        "        print(fii / 2)\n",
        "    else:\n",
        "        print(fii)\n",
        "\n",
        "\n",
        "print_player_data()"
      ]
    }
  ],
  "metadata": {
    "interpreter": {
      "hash": "aee8b7b246df8f9039afb4144a1f6fd8d2ca17a180786b69acc140d282b71a49"
    },
    "kernelspec": {
      "display_name": "Python 3.10.2 64-bit",
      "language": "python",
      "name": "python3"
    },
    "language_info": {
      "codemirror_mode": {
        "name": "ipython",
        "version": 3
      },
      "file_extension": ".py",
      "mimetype": "text/x-python",
      "name": "python",
      "nbconvert_exporter": "python",
      "pygments_lexer": "ipython3",
      "version": "3.10.2"
    },
    "orig_nbformat": 4
  },
  "nbformat": 4,
  "nbformat_minor": 2
}

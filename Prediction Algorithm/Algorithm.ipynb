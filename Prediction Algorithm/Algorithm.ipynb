{
  "cells": [
    {
      "cell_type": "code",
      "execution_count": 1,
      "metadata": {},
      "outputs": [],
      "source": [
        "import numpy as np\n",
        "import pandas as pd\n",
        "\n",
        "\n",
        "import matplotlib.pyplot as plt\n",
        "plt.style.use('fivethirtyeight')\n",
        "plt.rcParams['lines.linewidth'] = 1.5\n",
        "\n",
        "import warnings\n",
        "warnings.filterwarnings('ignore')\n",
        "\n",
        "from sklearn.ensemble import RandomForestRegressor\n",
        "\n",
        "from skforecast.ForecasterAutoreg import ForecasterAutoreg\n"
      ]
    },
    {
      "cell_type": "code",
      "execution_count": 2,
      "metadata": {},
      "outputs": [
        {
          "name": "stdout",
          "output_type": "stream",
          "text": [
            "['James HardenHOU', 'Anthony DavisNO', 'LeBron JamesCLE', 'Damian LillardPOR', 'Giannis AntetokounmpoMIL', 'Stephen CurryGS', 'Kevin DurantGS', 'Russell WestbrookOKC', 'DeMarcus CousinsNO', 'Devin BookerPHX', 'Kyrie IrvingBOS', 'LaMarcus AldridgeSA']\n",
            "      PER\n",
            "0   27.43\n",
            "1   29.87\n",
            "2   30.62\n",
            "3   27.59\n",
            "4   28.98\n",
            "5   30.32\n",
            "6   27.11\n",
            "7   28.65\n",
            "8   24.15\n",
            "9   25.19\n",
            "10  23.78\n",
            "11  26.13\n",
            "12  27.37\n",
            "13  30.95\n",
            "14  24.74\n",
            "15  28.32\n",
            "16  24.45\n",
            "17  27.68\n",
            "18  26.05\n",
            "19  24.26\n",
            "20  30.70\n",
            "21  24.80\n",
            "22  21.14\n",
            "23  22.66\n",
            "24  14.64\n",
            "25  18.12\n",
            "26  20.30\n",
            "27  25.03\n",
            "28  24.37\n",
            "29  18.66\n",
            "30  25.12\n",
            "31  22.98\n",
            "[23.0521 20.4888 22.712  19.7812 22.5998 20.4625 21.84   21.2244 19.7319\n",
            " 20.3558 22.6584 20.1709]\n",
            "255.07779999999997\n"
          ]
        }
      ],
      "source": [
        "\n",
        "def print_player_data():\n",
        "    nba_data = pd.read_csv(\"CSV_2017-18_PER.csv\", sep=\",\")\n",
        "    dataList = []\n",
        "   \n",
        "\n",
        "    player_names = input(\"Enter a list of player names: \")\n",
        "    player_names = player_names.split(\",\")\n",
        "    player_names = [name.lstrip() for name in player_names]\n",
        "    print(player_names)\n",
        "    \n",
        "    for player in player_names:\n",
        "        for index, row in nba_data.iterrows():\n",
        "            if row[\"PLAYER_NAME\"] == player:\n",
        "                dataList.append(row[\"PER\"])\n",
        "                \n",
        "    predictList = pd.Series(dataList)\n",
        "    df = pd.DataFrame({'PER':predictList.values})\n",
        "    print(df)\n",
        "\n",
        "    \n",
        "    forecaster = ForecasterAutoreg (\n",
        "            regressor = RandomForestRegressor(random_state=123),\n",
        "            lags = 2\n",
        "        )\n",
        "\n",
        "    forecaster.fit(y=df['PER'])\n",
        "    forecaster\n",
        "\n",
        "    steps = 12\n",
        "    predictions = forecaster.predict(steps=steps)\n",
        "    predictions[0:12]  \n",
        "    print(predictions)    \n",
        "    \n",
        "    finalList = predictions.tolist()\n",
        "\n",
        "    sumof = sum(finalList)\n",
        "    print(sumof)\n",
        "\n",
        "print_player_data()"
      ]
    }
  ],
  "metadata": {
    "interpreter": {
      "hash": "aee8b7b246df8f9039afb4144a1f6fd8d2ca17a180786b69acc140d282b71a49"
    },
    "kernelspec": {
      "display_name": "Python 3.10.2 64-bit",
      "language": "python",
      "name": "python3"
    },
    "language_info": {
      "codemirror_mode": {
        "name": "ipython",
        "version": 3
      },
      "file_extension": ".py",
      "mimetype": "text/x-python",
      "name": "python",
      "nbconvert_exporter": "python",
      "pygments_lexer": "ipython3",
      "version": "3.10.2"
    },
    "orig_nbformat": 4
  },
  "nbformat": 4,
  "nbformat_minor": 2
}

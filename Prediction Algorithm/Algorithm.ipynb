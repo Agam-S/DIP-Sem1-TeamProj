{
  "cells": [
    {
      "cell_type": "code",
      "execution_count": 50,
      "metadata": {},
      "outputs": [],
      "source": [
        "import numpy as np\n",
        "import pandas as pd\n",
        "from io import StringIO\n",
        "\n",
        "import matplotlib.pyplot as plt\n",
        "plt.style.use('fivethirtyeight')\n",
        "plt.rcParams['lines.linewidth'] = 1.5\n",
        "\n",
        "import warnings\n",
        "warnings.filterwarnings('ignore')\n",
        "\n",
        "from sklearn.linear_model import LinearRegression\n",
        "from sklearn.linear_model import Lasso\n",
        "from sklearn.ensemble import RandomForestRegressor\n",
        "from sklearn.metrics import mean_squared_error\n",
        "from sklearn.preprocessing import StandardScaler\n",
        "from sklearn.pipeline import make_pipeline\n",
        "\n",
        "from skforecast.ForecasterAutoreg import ForecasterAutoreg\n",
        "from skforecast.ForecasterAutoregCustom import ForecasterAutoregCustom\n",
        "from skforecast.ForecasterAutoregMultiOutput import ForecasterAutoregMultiOutput\n",
        "from skforecast.model_selection import grid_search_forecaster\n",
        "from skforecast.model_selection import backtesting_forecaster\n",
        "\n",
        "from joblib import dump, load"
      ]
    },
    {
      "cell_type": "code",
      "execution_count": 70,
      "metadata": {},
      "outputs": [
        {
          "name": "stdout",
          "output_type": "stream",
          "text": [
            "['Alex Len', 'Alex Poythress', 'Daniel Hamilton', 'DeAndre Bembry', 'Dewayne Dedmon', 'Deyonta Davis', 'Isaac Humphries', 'Jaylen Adams']\n",
            "     W/R\n",
            "0  36.36\n",
            "1  33.33\n",
            "2  36.84\n",
            "3  35.37\n",
            "4  37.50\n",
            "5  33.33\n",
            "6  20.00\n",
            "7  38.24\n",
            "2.763953999999998\n"
          ]
        }
      ],
      "source": [
        "\n",
        "\n",
        "\n",
        "def print_player_data():\n",
        "    nba_data = pd.read_csv(\"csv_data.csv\", sep=\",\")\n",
        "    dataList = []\n",
        "   \n",
        "\n",
        "    player_names = input(\"Enter a list of player names: \")\n",
        "    player_names = player_names.split(\",\")\n",
        "    player_names = [name.lstrip() for name in player_names]\n",
        "    print(player_names)\n",
        "    \n",
        "    for player in player_names:\n",
        "        for index, row in nba_data.iterrows():\n",
        "            if row[\"PLAYER_NAME\"] == player:\n",
        "                dataList.append(row[\"W/R_percentage\"])\n",
        "                \n",
        "    predictList = pd.Series(dataList)\n",
        "    df = pd.DataFrame({'W/R':predictList.values})\n",
        "    print(df)\n",
        "\n",
        "    forecaster = ForecasterAutoreg (\n",
        "            regressor = RandomForestRegressor(random_state=123),\n",
        "            lags = 2\n",
        "        )\n",
        "\n",
        "    forecaster.fit(y=df['W/R'])\n",
        "    forecaster\n",
        "\n",
        "    steps = len(player_names)\n",
        "    predictions = forecaster.predict(steps=steps)\n",
        "    predictions[0:3]           \n",
        "    \n",
        "    finalList = predictions.tolist()\n",
        "\n",
        "    sumof = sum(finalList)\n",
        "    print(sumof / 100)\n",
        "\n",
        "print_player_data()"
      ]
    }
  ],
  "metadata": {
    "interpreter": {
      "hash": "aee8b7b246df8f9039afb4144a1f6fd8d2ca17a180786b69acc140d282b71a49"
    },
    "kernelspec": {
      "display_name": "Python 3.10.2 64-bit",
      "language": "python",
      "name": "python3"
    },
    "language_info": {
      "codemirror_mode": {
        "name": "ipython",
        "version": 3
      },
      "file_extension": ".py",
      "mimetype": "text/x-python",
      "name": "python",
      "nbconvert_exporter": "python",
      "pygments_lexer": "ipython3",
      "version": "3.10.2"
    },
    "orig_nbformat": 4
  },
  "nbformat": 4,
  "nbformat_minor": 2
}

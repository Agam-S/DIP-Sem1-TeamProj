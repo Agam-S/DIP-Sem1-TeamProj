{
  "cells": [
    {
      "cell_type": "code",
      "execution_count": 1,
      "metadata": {},
      "outputs": [],
      "source": [
        "import numpy as np\n",
        "import pandas as pd\n",
        "\n",
        "\n",
        "import matplotlib.pyplot as plt\n",
        "plt.style.use('fivethirtyeight')\n",
        "plt.rcParams['lines.linewidth'] = 1.5\n",
        "\n",
        "import warnings\n",
        "warnings.filterwarnings('ignore')\n",
        "\n",
        "from sklearn.ensemble import RandomForestRegressor\n",
        "\n",
        "from skforecast.ForecasterAutoreg import ForecasterAutoreg\n"
      ]
    },
    {
      "cell_type": "code",
      "execution_count": 43,
      "metadata": {},
      "outputs": [
        {
          "name": "stdout",
          "output_type": "stream",
          "text": [
            "['Brook LopezMIL', 'Eric BledsoeMIL', 'Khris MiddletonMIL', 'Tony SnellMIL', 'Giannis AntetokounmpoMIL', 'Ersan IlyasovaMIL']\n",
            "     PER\n",
            "0  14.59\n",
            "1  19.31\n",
            "2  17.45\n",
            "3  16.55\n",
            "4   8.49\n",
            "5  10.72\n",
            "6  27.37\n",
            "7  30.95\n",
            "8  11.60\n",
            "[23.9874 26.4594 25.1949 25.1949 25.1949 25.1949 25.1949]\n",
            "176.42129999999983\n"
          ]
        }
      ],
      "source": [
        "\n",
        "def print_player_data():\n",
        "    nba_data = pd.read_csv(\"CSV_2017-18_PER.csv\", sep=\",\")\n",
        "    dataList = []\n",
        "   \n",
        "\n",
        "    player_names = input(\"Enter a list of player names: \")\n",
        "    player_names = player_names.split(\",\")\n",
        "    player_names = [name.lstrip() for name in player_names]\n",
        "    print(player_names)\n",
        "    \n",
        "    for player in player_names:\n",
        "        for index, row in nba_data.iterrows():\n",
        "            if row[\"PLAYER_NAME\"] == player:\n",
        "                dataList.append(row[\"PER\"])\n",
        "                \n",
        "    predictList = pd.Series(dataList)\n",
        "    df = pd.DataFrame({'PER':predictList.values})\n",
        "    print(df)\n",
        "\n",
        "    \n",
        "    forecaster = ForecasterAutoreg (\n",
        "            regressor = RandomForestRegressor(random_state=123),\n",
        "            lags = 1\n",
        "        )\n",
        "\n",
        "    forecaster.fit(y=df['PER'])\n",
        "    forecaster\n",
        "\n",
        "    steps = 7\n",
        "    predictions = forecaster.predict(steps=steps)\n",
        "    predictions[0:12]  \n",
        "    print(predictions)    \n",
        "    \n",
        "    finalList = predictions.tolist()\n",
        "\n",
        "    sumof = sum(finalList)\n",
        "    print(sumof)\n",
        "\n",
        "print_player_data()"
      ]
    }
  ],
  "metadata": {
    "interpreter": {
      "hash": "aee8b7b246df8f9039afb4144a1f6fd8d2ca17a180786b69acc140d282b71a49"
    },
    "kernelspec": {
      "display_name": "Python 3.10.2 64-bit",
      "language": "python",
      "name": "python3"
    },
    "language_info": {
      "codemirror_mode": {
        "name": "ipython",
        "version": 3
      },
      "file_extension": ".py",
      "mimetype": "text/x-python",
      "name": "python",
      "nbconvert_exporter": "python",
      "pygments_lexer": "ipython3",
      "version": "3.10.2"
    },
    "orig_nbformat": 4
  },
  "nbformat": 4,
  "nbformat_minor": 2
}

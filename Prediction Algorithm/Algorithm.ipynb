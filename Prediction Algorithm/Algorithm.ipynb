{
  "cells": [
    {
      "cell_type": "code",
      "execution_count": 2,
      "metadata": {},
      "outputs": [],
      "source": [
        "import numpy as np\n",
        "import pandas as pd\n",
        "from io import StringIO\n",
        "\n",
        "import matplotlib.pyplot as plt\n",
        "plt.style.use('fivethirtyeight')\n",
        "plt.rcParams['lines.linewidth'] = 1.5\n",
        "\n",
        "import warnings\n",
        "warnings.filterwarnings('ignore')\n",
        "\n",
        "from sklearn.linear_model import LinearRegression\n",
        "from sklearn.linear_model import Lasso\n",
        "from sklearn.ensemble import RandomForestRegressor\n",
        "from sklearn.metrics import mean_squared_error\n",
        "from sklearn.preprocessing import StandardScaler\n",
        "from sklearn.pipeline import make_pipeline\n",
        "\n",
        "from skforecast.ForecasterAutoreg import ForecasterAutoreg\n",
        "from skforecast.ForecasterAutoregCustom import ForecasterAutoregCustom\n",
        "from skforecast.ForecasterAutoregMultiOutput import ForecasterAutoregMultiOutput\n",
        "from skforecast.model_selection import grid_search_forecaster\n",
        "from skforecast.model_selection import backtesting_forecaster\n",
        "\n",
        "from joblib import dump, load"
      ]
    },
    {
      "cell_type": "code",
      "execution_count": 6,
      "metadata": {},
      "outputs": [
        {
          "name": "stdout",
          "output_type": "stream",
          "text": [
            "['James HardenHOU', 'Anthony DavisNO', 'LeBron JamesCLE', 'Damian LillardPOR', 'Giannis AntetokounmpoMIL', 'Stephen CurryGS', 'Kevin DurantGS', 'Russell WestbrookOKC', 'DeMarcus CousinsNO', 'Devin BookerPHX', 'Kyrie IrvingBOS', 'LaMarcus AldridgeSA']\n",
            "      PER\n",
            "0   29.87\n",
            "1   30.62\n",
            "2   28.98\n",
            "3   30.32\n",
            "4   28.65\n",
            "5   25.19\n",
            "6   23.78\n",
            "7   27.37\n",
            "8   30.95\n",
            "9   28.32\n",
            "10  24.45\n",
            "11  26.05\n",
            "12  24.26\n",
            "13  24.80\n",
            "14  21.14\n",
            "15  22.66\n",
            "16  18.12\n",
            "17  20.30\n",
            "18  25.03\n",
            "19  24.37\n",
            "20  25.12\n",
            "21  22.98\n",
            "[24.1638 22.8301 21.1554 21.2675 21.2031 21.1794 21.2031 21.2031 21.2031\n",
            " 21.2031 21.2031 21.2031]\n",
            "259.01789999999977\n"
          ]
        }
      ],
      "source": [
        "\n",
        "def print_player_data():\n",
        "    nba_data = pd.read_csv(\"CSV_2017-18_PER.csv\", sep=\",\")\n",
        "    dataList = []\n",
        "   \n",
        "\n",
        "    player_names = input(\"Enter a list of player names: \")\n",
        "    player_names = player_names.split(\",\")\n",
        "    player_names = [name.lstrip() for name in player_names]\n",
        "    print(player_names)\n",
        "    \n",
        "    for player in player_names:\n",
        "        for index, row in nba_data.iterrows():\n",
        "            if row[\"PLAYER_NAME\"] == player:\n",
        "                dataList.append(row[\"PER\"])\n",
        "                \n",
        "    predictList = pd.Series(dataList)\n",
        "    df = pd.DataFrame({'PER':predictList.values})\n",
        "    print(df)\n",
        "\n",
        "    \n",
        "    forecaster = ForecasterAutoreg (\n",
        "            regressor = RandomForestRegressor(random_state=123),\n",
        "            lags = 2\n",
        "        )\n",
        "\n",
        "    forecaster.fit(y=df['PER'])\n",
        "    forecaster\n",
        "\n",
        "    steps = 12\n",
        "    predictions = forecaster.predict(steps=steps)\n",
        "    predictions[0:12]  \n",
        "    print(predictions)    \n",
        "    \n",
        "    finalList = predictions.tolist()\n",
        "\n",
        "    sumof = sum(finalList)\n",
        "    print(sumof)\n",
        "\n",
        "print_player_data()"
      ]
    }
  ],
  "metadata": {
    "interpreter": {
      "hash": "aee8b7b246df8f9039afb4144a1f6fd8d2ca17a180786b69acc140d282b71a49"
    },
    "kernelspec": {
      "display_name": "Python 3.10.2 64-bit",
      "language": "python",
      "name": "python3"
    },
    "language_info": {
      "codemirror_mode": {
        "name": "ipython",
        "version": 3
      },
      "file_extension": ".py",
      "mimetype": "text/x-python",
      "name": "python",
      "nbconvert_exporter": "python",
      "pygments_lexer": "ipython3",
      "version": "3.10.2"
    },
    "orig_nbformat": 4
  },
  "nbformat": 4,
  "nbformat_minor": 2
}
